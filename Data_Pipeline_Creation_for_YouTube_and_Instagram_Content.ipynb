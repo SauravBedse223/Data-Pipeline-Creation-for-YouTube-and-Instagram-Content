{
  "nbformat": 4,
  "nbformat_minor": 0,
  "metadata": {
    "colab": {
      "provenance": [],
      "mount_file_id": "1sZETqLTqKzSeNWsgYFneinUQwNJ4xlxm",
      "authorship_tag": "ABX9TyMsXykGTE58zRCeZe+Av0y0",
      "include_colab_link": true
    },
    "kernelspec": {
      "name": "python3",
      "display_name": "Python 3"
    },
    "language_info": {
      "name": "python"
    }
  },
  "cells": [
    {
      "cell_type": "markdown",
      "metadata": {
        "id": "view-in-github",
        "colab_type": "text"
      },
      "source": [
        "<a href=\"https://colab.research.google.com/github/SauravBedse223/Data-Pipeline-Creation-for-YouTube-and-Instagram-Content/blob/main/Data_Pipeline_Creation_for_YouTube_and_Instagram_Content.ipynb\" target=\"_parent\"><img src=\"https://colab.research.google.com/assets/colab-badge.svg\" alt=\"Open In Colab\"/></a>"
      ]
    },
    {
      "cell_type": "code",
      "source": [
        "pip install youtube_dl instaloader SpeechRecognition pydub pandas\n"
      ],
      "metadata": {
        "colab": {
          "base_uri": "https://localhost:8080/"
        },
        "id": "lGwNYe-sjpS-",
        "outputId": "08bf60d1-c682-47db-e023-416cb3652e21"
      },
      "execution_count": 2,
      "outputs": [
        {
          "output_type": "stream",
          "name": "stdout",
          "text": [
            "Collecting youtube_dl\n",
            "  Downloading youtube_dl-2021.12.17-py2.py3-none-any.whl (1.9 MB)\n",
            "\u001b[2K     \u001b[90m━━━━━━━━━━━━━━━━━━━━━━━━━━━━━━━━━━━━━━━━\u001b[0m \u001b[32m1.9/1.9 MB\u001b[0m \u001b[31m7.1 MB/s\u001b[0m eta \u001b[36m0:00:00\u001b[0m\n",
            "\u001b[?25hCollecting instaloader\n",
            "  Downloading instaloader-4.11.tar.gz (63 kB)\n",
            "\u001b[2K     \u001b[90m━━━━━━━━━━━━━━━━━━━━━━━━━━━━━━━━━━━━━━━━\u001b[0m \u001b[32m63.8/63.8 kB\u001b[0m \u001b[31m7.3 MB/s\u001b[0m eta \u001b[36m0:00:00\u001b[0m\n",
            "\u001b[?25h  Preparing metadata (setup.py) ... \u001b[?25l\u001b[?25hdone\n",
            "Collecting SpeechRecognition\n",
            "  Downloading SpeechRecognition-3.10.4-py2.py3-none-any.whl (32.8 MB)\n",
            "\u001b[2K     \u001b[90m━━━━━━━━━━━━━━━━━━━━━━━━━━━━━━━━━━━━━━━━\u001b[0m \u001b[32m32.8/32.8 MB\u001b[0m \u001b[31m29.2 MB/s\u001b[0m eta \u001b[36m0:00:00\u001b[0m\n",
            "\u001b[?25hCollecting pydub\n",
            "  Downloading pydub-0.25.1-py2.py3-none-any.whl (32 kB)\n",
            "Requirement already satisfied: pandas in /usr/local/lib/python3.10/dist-packages (2.0.3)\n",
            "Requirement already satisfied: requests>=2.4 in /usr/local/lib/python3.10/dist-packages (from instaloader) (2.31.0)\n",
            "Requirement already satisfied: typing-extensions in /usr/local/lib/python3.10/dist-packages (from SpeechRecognition) (4.11.0)\n",
            "Requirement already satisfied: python-dateutil>=2.8.2 in /usr/local/lib/python3.10/dist-packages (from pandas) (2.8.2)\n",
            "Requirement already satisfied: pytz>=2020.1 in /usr/local/lib/python3.10/dist-packages (from pandas) (2023.4)\n",
            "Requirement already satisfied: tzdata>=2022.1 in /usr/local/lib/python3.10/dist-packages (from pandas) (2024.1)\n",
            "Requirement already satisfied: numpy>=1.21.0 in /usr/local/lib/python3.10/dist-packages (from pandas) (1.25.2)\n",
            "Requirement already satisfied: six>=1.5 in /usr/local/lib/python3.10/dist-packages (from python-dateutil>=2.8.2->pandas) (1.16.0)\n",
            "Requirement already satisfied: charset-normalizer<4,>=2 in /usr/local/lib/python3.10/dist-packages (from requests>=2.4->instaloader) (3.3.2)\n",
            "Requirement already satisfied: idna<4,>=2.5 in /usr/local/lib/python3.10/dist-packages (from requests>=2.4->instaloader) (3.7)\n",
            "Requirement already satisfied: urllib3<3,>=1.21.1 in /usr/local/lib/python3.10/dist-packages (from requests>=2.4->instaloader) (2.0.7)\n",
            "Requirement already satisfied: certifi>=2017.4.17 in /usr/local/lib/python3.10/dist-packages (from requests>=2.4->instaloader) (2024.2.2)\n",
            "Building wheels for collected packages: instaloader\n",
            "  Building wheel for instaloader (setup.py) ... \u001b[?25l\u001b[?25hdone\n",
            "  Created wheel for instaloader: filename=instaloader-4.11-py3-none-any.whl size=65967 sha256=23058476f46e6563e947a4cdf119acf46a7353ce7e9b8de221f13d65ca9f2a55\n",
            "  Stored in directory: /root/.cache/pip/wheels/59/74/a0/a643055404b7f51b588926301ce74f4ad195e5d45cde82e79d\n",
            "Successfully built instaloader\n",
            "Installing collected packages: youtube_dl, pydub, SpeechRecognition, instaloader\n",
            "Successfully installed SpeechRecognition-3.10.4 instaloader-4.11 pydub-0.25.1 youtube_dl-2021.12.17\n"
          ]
        }
      ]
    },
    {
      "cell_type": "code",
      "source": [
        "import instaloader\n",
        "\n",
        "# Initialize Instaloader\n",
        "L = instaloader.Instaloader()\n",
        "\n",
        "# Log in to Instagram\n",
        "username = 'saurav_bedse_prt'\n",
        "password = '********'\n",
        "L.login(username, password)\n",
        "\n",
        "# Save the session\n",
        "L.save_session_to_file()\n"
      ],
      "metadata": {
        "colab": {
          "base_uri": "https://localhost:8080/"
        },
        "id": "W9nZtn14jprt",
        "outputId": "38d695c8-0957-4613-bb3b-f8dfc9ed69e9"
      },
      "execution_count": 28,
      "outputs": [
        {
          "output_type": "stream",
          "name": "stdout",
          "text": [
            "Saved session to /root/.config/instaloader/session-saurav_bedse_prt.\n"
          ]
        }
      ]
    },
    {
      "cell_type": "code",
      "source": [
        "import youtube_dl\n",
        "import instaloader\n",
        "import speech_recognition as sr\n",
        "from pydub import AudioSegment\n",
        "import pandas as pd\n",
        "import os\n"
      ],
      "metadata": {
        "id": "3lYvy5A6jpuN"
      },
      "execution_count": 22,
      "outputs": []
    },
    {
      "cell_type": "code",
      "source": [
        "# Function to download audio from YouTube videos\n",
        "def download_youtube_audio(url, output_path):\n",
        "    ydl_opts = {\n",
        "        'format': 'bestaudio/best',\n",
        "        'postprocessors': [{\n",
        "            'key': 'FFmpegExtractAudio',\n",
        "            'preferredcodec': 'wav',\n",
        "            'preferredquality': '192',\n",
        "        }],\n",
        "        'outtmpl': output_path,\n",
        "    }\n",
        "    with youtube_dl.YoutubeDL(ydl_opts) as ydl:\n",
        "        ydl.download([url])"
      ],
      "metadata": {
        "id": "cvaNr8guo_sm"
      },
      "execution_count": 23,
      "outputs": []
    },
    {
      "cell_type": "code",
      "source": [
        "# Function to download video from Instagram\n",
        "def download_instagram_video(url, output_path, username):\n",
        "    L = instaloader.Instaloader()\n",
        "    # Load the saved session\n",
        "    session_file = f\"/root/.config/instaloader/session-{username}\"\n",
        "\n",
        "    if not os.path.exists(session_file):\n",
        "        raise FileNotFoundError(f\"Session file {session_file} not found.\")\n",
        "\n",
        "    L.load_session_from_file(username, session_file)\n",
        "\n",
        "    # Extract shortcode from URL\n",
        "    shortcode = url.split('/')[4]\n",
        "    post = instaloader.Post.from_shortcode(L.context, shortcode)\n",
        "    L.download_post(post, target=output_path)"
      ],
      "metadata": {
        "id": "Hnt_jIWNuZ1-"
      },
      "execution_count": 24,
      "outputs": []
    },
    {
      "cell_type": "code",
      "source": [
        "# Function to transcribe audio\n",
        "def transcribe_audio(audio_path):\n",
        "    recognizer = sr.Recognizer()\n",
        "    with sr.AudioFile(audio_path) as source:\n",
        "        audio_data = recognizer.record(source)\n",
        "        try:\n",
        "            return recognizer.recognize_google(audio_data)\n",
        "        except sr.UnknownValueError:\n",
        "            return \"Transcription failed.\"\n",
        "        except sr.RequestError as e:\n",
        "            return f\"Could not request results from Google Web Speech API; {e}\""
      ],
      "metadata": {
        "id": "LxSEPPeoudVD"
      },
      "execution_count": 25,
      "outputs": []
    },
    {
      "cell_type": "code",
      "source": [
        "# Convert audio file to WAV format (if necessary)\n",
        "def convert_to_wav(input_audio_path, output_audio_path):\n",
        "    audio = AudioSegment.from_file(input_audio_path)\n",
        "    audio.export(output_audio_path, format=\"wav\")"
      ],
      "metadata": {
        "id": "LwqZXzkpuhLH"
      },
      "execution_count": 26,
      "outputs": []
    },
    {
      "cell_type": "code",
      "source": [
        "def main():\n",
        "    # Load the dataset\n",
        "    file_path = \"/content/drive/MyDrive/Colab Notebooks/Copy of AI Project Data Training Sheet - Data Sheet.csv\"\n",
        "    data = pd.read_csv(file_path)\n",
        "\n",
        "    # Ensure output directories exist\n",
        "    os.makedirs(\"downloads\", exist_ok=True)\n",
        "    os.makedirs(\"audios\", exist_ok=True)\n",
        "\n",
        "    # Username for session loading\n",
        "    username = 'saurav_bedse_prt'\n",
        "\n",
        "    # Iterate through each row in the dataset\n",
        "    for index, row in data.iterrows():\n",
        "        url = row[\"Reference URL\"]\n",
        "        video_type = \"youtube\" if \"youtube\" in url.lower() else \"instagram\"\n",
        "        video_id = url.split('/')[-1]\n",
        "        video_path = f\"downloads/{video_type}_{video_id}.mp4\"\n",
        "        audio_path = f\"audios/{video_type}_{video_id}.wav\"\n",
        "\n",
        "        # Download the video and extract audio\n",
        "        if video_type == \"youtube\":\n",
        "            try:\n",
        "                download_youtube_audio(url, video_path)\n",
        "            except Exception as e:\n",
        "                print(f\"Failed to download YouTube video {url}: {e}\")\n",
        "                continue\n",
        "        else:\n",
        "            try:\n",
        "                download_instagram_video(url, \"downloads\", username)\n",
        "            except Exception as e:\n",
        "                print(f\"Failed to download Instagram video {url}: {e}\")\n",
        "                continue\n",
        "\n",
        "        # Check if the file was downloaded correctly\n",
        "        if not os.path.exists(video_path):\n",
        "            video_files = [file for file in os.listdir(\"downloads\") if file.endswith('.mp4')]\n",
        "            if video_files:\n",
        "                video_path = os.path.join(\"downloads\", video_files[0])\n",
        "            else:\n",
        "                print(f\"No video file found for {url}\")\n",
        "                continue\n",
        "\n",
        "        # Convert to WAV format if necessary\n",
        "        if not video_path.endswith(\".wav\"):\n",
        "            try:\n",
        "                convert_to_wav(video_path, audio_path)\n",
        "            except Exception as e:\n",
        "                print(f\"Failed to convert video to WAV {video_path}: {e}\")\n",
        "                continue\n",
        "\n",
        "        # Transcribe the audio\n",
        "        try:\n",
        "            transcription = transcribe_audio(audio_path)\n",
        "        except Exception as e:\n",
        "            print(f\"Failed to transcribe audio {audio_path}: {e}\")\n",
        "            transcription = \"Transcription failed.\"\n",
        "\n",
        "        # Update the dataset\n",
        "        data.at[index, \"Body\"] = transcription\n",
        "\n",
        "    # Save the updated dataset\n",
        "    data.to_csv(\"/content/drive/MyDrive/Colab Notebooks/transcribed_data.csv\", index=False)\n",
        "    print(\"Transcription complete and saved to transcribed_data.csv\")\n",
        "\n",
        "if __name__ == \"__main__\":\n",
        "    main()"
      ],
      "metadata": {
        "colab": {
          "base_uri": "https://localhost:8080/"
        },
        "id": "RHTADQMoukeu",
        "outputId": "7e9c9832-dd46-4d97-aa74-9084a449df1b"
      },
      "execution_count": 27,
      "outputs": [
        {
          "output_type": "stream",
          "name": "stdout",
          "text": [
            "Loaded session from /root/.config/instaloader/session-saurav_bedse_prt.\n",
            "downloads/2024-03-29_15-05-21_UTC.jpg exists [Multiple creators stole from …] unchanged downloads/2024-03-29_15-05-21_UTC.mp4 exists json \n",
            "Loaded session from /root/.config/instaloader/session-saurav_bedse_prt.\n",
            "downloads/2024-04-20_20-15-46_UTC.jpg exists [Comment “CTA” for the doc…] unchanged downloads/2024-04-20_20-15-46_UTC.mp4 exists json \n",
            "Loaded session from /root/.config/instaloader/session-saurav_bedse_prt.\n",
            "downloads/2023-09-27_14-12-25_UTC.jpg exists [$187,348 Social Media Strateg…] unchanged downloads/2023-09-27_14-12-25_UTC.mp4 exists json \n",
            "Loaded session from /root/.config/instaloader/session-saurav_bedse_prt.\n",
            "downloads/2023-12-30_18-31-15_UTC.jpg exists [comment “wallet”   #socialmed…] unchanged downloads/2023-12-30_18-31-15_UTC.mp4 exists json \n",
            "Loaded session from /root/.config/instaloader/session-saurav_bedse_prt.\n",
            "downloads/2023-09-20_11-44-49_UTC.jpg exists [🤖Algorithm Explained…  - - - …] unchanged downloads/2023-09-20_11-44-49_UTC.mp4 exists json \n",
            "Loaded session from /root/.config/instaloader/session-saurav_bedse_prt.\n",
            "downloads/2023-07-09_12-31-40_UTC.jpg exists [1 Idea into 18 VIRAL Videos 🤯…] unchanged downloads/2023-07-09_12-31-40_UTC.mp4 exists json \n",
            "Loaded session from /root/.config/instaloader/session-saurav_bedse_prt.\n",
            "downloads/2023-04-06_15-25-24_UTC.jpg exists [1 Idea Into 7 VIRAL Videos 🤯🚀…] unchanged downloads/2023-04-06_15-25-24_UTC.mp4 exists json \n",
            "Loaded session from /root/.config/instaloader/session-saurav_bedse_prt.\n",
            "downloads/2024-02-28_07-36-23_UTC.jpg exists [You NEED to be using this FRE…] unchanged downloads/2024-02-28_07-36-23_UTC.mp4 exists json \n",
            "Loaded session from /root/.config/instaloader/session-saurav_bedse_prt.\n",
            "downloads/2024-02-24_02-51-19_UTC.jpg exists [Alex Hormozi’s favorite line …] unchanged downloads/2024-02-24_02-51-19_UTC.mp4 exists json \n",
            "Loaded session from /root/.config/instaloader/session-saurav_bedse_prt.\n",
            "downloads/2024-01-23_10-07-32_UTC.jpg exists [You need to use this copy pas…] unchanged downloads/2024-01-23_10-07-32_UTC.mp4 exists json \n",
            "Loaded session from /root/.config/instaloader/session-saurav_bedse_prt.\n",
            "downloads/2024-01-09_09-36-00_UTC.jpg exists [Being broke is no longer an e…] unchanged downloads/2024-01-09_09-36-00_UTC.mp4 exists json \n",
            "Loaded session from /root/.config/instaloader/session-saurav_bedse_prt.\n",
            "downloads/2023-12-16_10-08-56_UTC.jpg [You NEED to be using this FRE…] downloads/2023-12-16_10-08-56_UTC.mp4 json \n",
            "Loaded session from /root/.config/instaloader/session-saurav_bedse_prt.\n",
            "downloads/2024-02-19_16-27-33_UTC.jpg downloads/2024-02-19_16-27-33_UTC.mp4 json \n",
            "Loaded session from /root/.config/instaloader/session-saurav_bedse_prt.\n",
            "downloads/2024-02-11_17-00-17_UTC.jpg downloads/2024-02-11_17-00-17_UTC.mp4 json \n",
            "Loaded session from /root/.config/instaloader/session-saurav_bedse_prt.\n",
            "downloads/2024-01-23_19-45-28_UTC.jpg [Pocket watching @cultleaderha…] downloads/2024-01-23_19-45-28_UTC.mp4 json \n",
            "Loaded session from /root/.config/instaloader/session-saurav_bedse_prt.\n",
            "downloads/2024-01-21_22-34-10_UTC.jpg [@hormozi just changed online …] "
          ]
        },
        {
          "output_type": "stream",
          "name": "stderr",
          "text": [
            "JSON Query to api/v1/media/3285451686787142768/info/: HTTP error code 401. [retrying; skip with ^C]\n",
            "JSON Query to api/v1/media/3285451686787142768/info/: HTTP error code 401. [retrying; skip with ^C]\n",
            "Unable to fetch high-quality video version of <Post C2YRObtp9Rw>: JSON Query to api/v1/media/3285451686787142768/info/: HTTP error code 401.\n"
          ]
        },
        {
          "output_type": "stream",
          "name": "stdout",
          "text": [
            "downloads/2024-01-21_22-34-10_UTC.mp4 json \n",
            "Loaded session from /root/.config/instaloader/session-saurav_bedse_prt.\n"
          ]
        },
        {
          "output_type": "stream",
          "name": "stderr",
          "text": [
            "JSON Query to graphql/query: HTTP error code 401. [retrying; skip with ^C]\n",
            "JSON Query to graphql/query: HTTP error code 401. [retrying; skip with ^C]\n"
          ]
        },
        {
          "output_type": "stream",
          "name": "stdout",
          "text": [
            "Failed to download Instagram video https://www.instagram.com/reel/C3sMEhAL6L-/?igsh=MTJ6bG4zanRsZjc2ZA==: JSON Query to graphql/query: HTTP error code 401.\n",
            "Loaded session from /root/.config/instaloader/session-saurav_bedse_prt.\n"
          ]
        },
        {
          "output_type": "stream",
          "name": "stderr",
          "text": [
            "JSON Query to graphql/query: HTTP error code 401. [retrying; skip with ^C]\n",
            "JSON Query to graphql/query: HTTP error code 401. [retrying; skip with ^C]\n"
          ]
        },
        {
          "output_type": "stream",
          "name": "stdout",
          "text": [
            "Failed to download Instagram video https://www.instagram.com/reel/C6tMX9UAqgb/?igsh=MWV1c2dyZjczMXc4Yw==: JSON Query to graphql/query: HTTP error code 401.\n",
            "Loaded session from /root/.config/instaloader/session-saurav_bedse_prt.\n"
          ]
        },
        {
          "output_type": "stream",
          "name": "stderr",
          "text": [
            "JSON Query to graphql/query: HTTP error code 401. [retrying; skip with ^C]\n",
            "JSON Query to graphql/query: HTTP error code 401. [retrying; skip with ^C]\n"
          ]
        },
        {
          "output_type": "stream",
          "name": "stdout",
          "text": [
            "Failed to download Instagram video https://www.instagram.com/reel/C6bOGNuANBA/?igsh=MXFhZTRqMTB1ZXFrbA==: JSON Query to graphql/query: HTTP error code 401.\n",
            "Loaded session from /root/.config/instaloader/session-saurav_bedse_prt.\n"
          ]
        },
        {
          "output_type": "stream",
          "name": "stderr",
          "text": [
            "JSON Query to graphql/query: HTTP error code 401. [retrying; skip with ^C]\n",
            "JSON Query to graphql/query: HTTP error code 401. [retrying; skip with ^C]\n"
          ]
        },
        {
          "output_type": "stream",
          "name": "stdout",
          "text": [
            "Failed to download Instagram video https://www.instagram.com/reel/C6TeFb6A-Lm/?igsh=MWc4Njg5bWhleWgx: JSON Query to graphql/query: HTTP error code 401.\n",
            "Loaded session from /root/.config/instaloader/session-saurav_bedse_prt.\n"
          ]
        },
        {
          "output_type": "stream",
          "name": "stderr",
          "text": [
            "JSON Query to graphql/query: HTTP error code 401. [retrying; skip with ^C]\n",
            "JSON Query to graphql/query: HTTP error code 401. [retrying; skip with ^C]\n"
          ]
        },
        {
          "output_type": "stream",
          "name": "stdout",
          "text": [
            "Failed to download Instagram video https://www.instagram.com/reel/C5GRCC9A7zh/?igsh=c3prdTEwNnZvcXdm: JSON Query to graphql/query: HTTP error code 401.\n",
            "Loaded session from /root/.config/instaloader/session-saurav_bedse_prt.\n"
          ]
        },
        {
          "output_type": "stream",
          "name": "stderr",
          "text": [
            "JSON Query to graphql/query: HTTP error code 401. [retrying; skip with ^C]\n",
            "JSON Query to graphql/query: HTTP error code 401. [retrying; skip with ^C]\n"
          ]
        },
        {
          "output_type": "stream",
          "name": "stdout",
          "text": [
            "Failed to download Instagram video https://www.instagram.com/reel/C4F9Kg4gbmF/?igsh=MWxqMHMyZzRqdXhrYw==: JSON Query to graphql/query: HTTP error code 401.\n",
            "Loaded session from /root/.config/instaloader/session-saurav_bedse_prt.\n"
          ]
        },
        {
          "output_type": "stream",
          "name": "stderr",
          "text": [
            "JSON Query to graphql/query: HTTP error code 401. [retrying; skip with ^C]\n",
            "JSON Query to graphql/query: HTTP error code 401. [retrying; skip with ^C]\n"
          ]
        },
        {
          "output_type": "stream",
          "name": "stdout",
          "text": [
            "Failed to download Instagram video https://www.instagram.com/reel/C6pZXssPtpR/?igsh=c3Q2dDkwY242NDRq: JSON Query to graphql/query: HTTP error code 401.\n",
            "Loaded session from /root/.config/instaloader/session-saurav_bedse_prt.\n"
          ]
        },
        {
          "output_type": "stream",
          "name": "stderr",
          "text": [
            "JSON Query to graphql/query: HTTP error code 401. [retrying; skip with ^C]\n",
            "JSON Query to graphql/query: HTTP error code 401. [retrying; skip with ^C]\n"
          ]
        },
        {
          "output_type": "stream",
          "name": "stdout",
          "text": [
            "Failed to download Instagram video https://www.instagram.com/reel/C6RWccwuXdS/?igsh=Y3VhMGhxNnU2Nm9v: JSON Query to graphql/query: HTTP error code 401.\n",
            "Loaded session from /root/.config/instaloader/session-saurav_bedse_prt.\n"
          ]
        },
        {
          "output_type": "stream",
          "name": "stderr",
          "text": [
            "JSON Query to graphql/query: HTTP error code 401. [retrying; skip with ^C]\n",
            "JSON Query to graphql/query: HTTP error code 401. [retrying; skip with ^C]\n"
          ]
        },
        {
          "output_type": "stream",
          "name": "stdout",
          "text": [
            "Failed to download Instagram video https://www.instagram.com/reel/C5cIUm8vSCn/?igsh=MXd5cGd3ZzZhazV6bg==: JSON Query to graphql/query: HTTP error code 401.\n",
            "Loaded session from /root/.config/instaloader/session-saurav_bedse_prt.\n"
          ]
        },
        {
          "output_type": "stream",
          "name": "stderr",
          "text": [
            "JSON Query to graphql/query: HTTP error code 401. [retrying; skip with ^C]\n",
            "JSON Query to graphql/query: HTTP error code 401. [retrying; skip with ^C]\n"
          ]
        },
        {
          "output_type": "stream",
          "name": "stdout",
          "text": [
            "Failed to download Instagram video https://www.instagram.com/reel/C6_3a9kvJAd/?igsh=bzR1aGZmbHp6ZHJ5: JSON Query to graphql/query: HTTP error code 401.\n",
            "Loaded session from /root/.config/instaloader/session-saurav_bedse_prt.\n"
          ]
        },
        {
          "output_type": "stream",
          "name": "stderr",
          "text": [
            "JSON Query to graphql/query: HTTP error code 401. [retrying; skip with ^C]\n",
            "JSON Query to graphql/query: HTTP error code 401. [retrying; skip with ^C]\n"
          ]
        },
        {
          "output_type": "stream",
          "name": "stdout",
          "text": [
            "Failed to download Instagram video https://www.instagram.com/reel/C6386kcvUvx/?igsh=dTJxOXA4aDllcDd6: JSON Query to graphql/query: HTTP error code 401.\n",
            "Loaded session from /root/.config/instaloader/session-saurav_bedse_prt.\n"
          ]
        },
        {
          "output_type": "stream",
          "name": "stderr",
          "text": [
            "JSON Query to graphql/query: HTTP error code 401. [retrying; skip with ^C]\n",
            "JSON Query to graphql/query: HTTP error code 401. [retrying; skip with ^C]\n"
          ]
        },
        {
          "output_type": "stream",
          "name": "stdout",
          "text": [
            "Failed to download Instagram video https://www.instagram.com/reel/C63nlsWvzfj/?igsh=N2l0cW00bnU5ZmRp: JSON Query to graphql/query: HTTP error code 401.\n",
            "Loaded session from /root/.config/instaloader/session-saurav_bedse_prt.\n"
          ]
        },
        {
          "output_type": "stream",
          "name": "stderr",
          "text": [
            "JSON Query to graphql/query: HTTP error code 401. [retrying; skip with ^C]\n",
            "JSON Query to graphql/query: HTTP error code 401. [retrying; skip with ^C]\n"
          ]
        },
        {
          "output_type": "stream",
          "name": "stdout",
          "text": [
            "Failed to download Instagram video https://www.instagram.com/reel/C6hF7ybyqIJ/?igsh=MXdjeXpjNTd4bzU0cQ==: JSON Query to graphql/query: HTTP error code 401.\n",
            "Loaded session from /root/.config/instaloader/session-saurav_bedse_prt.\n"
          ]
        },
        {
          "output_type": "stream",
          "name": "stderr",
          "text": [
            "JSON Query to graphql/query: HTTP error code 401. [retrying; skip with ^C]\n",
            "JSON Query to graphql/query: HTTP error code 401. [retrying; skip with ^C]\n"
          ]
        },
        {
          "output_type": "stream",
          "name": "stdout",
          "text": [
            "Failed to download Instagram video https://www.instagram.com/reel/C6TlnaOvYny/?igsh=MTJmNWVldmM1Z294Mw==: JSON Query to graphql/query: HTTP error code 401.\n",
            "Loaded session from /root/.config/instaloader/session-saurav_bedse_prt.\n"
          ]
        },
        {
          "output_type": "stream",
          "name": "stderr",
          "text": [
            "JSON Query to graphql/query: HTTP error code 401. [retrying; skip with ^C]\n",
            "JSON Query to graphql/query: HTTP error code 401. [retrying; skip with ^C]\n"
          ]
        },
        {
          "output_type": "stream",
          "name": "stdout",
          "text": [
            "Failed to download Instagram video https://www.instagram.com/reel/C6E1GO2ywCh/?igsh=YWFudmk1M3AxcDBu: JSON Query to graphql/query: HTTP error code 401.\n",
            "Loaded session from /root/.config/instaloader/session-saurav_bedse_prt.\n"
          ]
        },
        {
          "output_type": "stream",
          "name": "stderr",
          "text": [
            "JSON Query to graphql/query: HTTP error code 401. [retrying; skip with ^C]\n",
            "JSON Query to graphql/query: HTTP error code 401. [retrying; skip with ^C]\n"
          ]
        },
        {
          "output_type": "stream",
          "name": "stdout",
          "text": [
            "Failed to download Instagram video https://www.instagram.com/reel/C4ZRor7pmaI/?igsh=dzRqNTFzc2Y1a2hk: JSON Query to graphql/query: HTTP error code 401.\n",
            "Loaded session from /root/.config/instaloader/session-saurav_bedse_prt.\n"
          ]
        },
        {
          "output_type": "stream",
          "name": "stderr",
          "text": [
            "JSON Query to graphql/query: HTTP error code 401. [retrying; skip with ^C]\n",
            "JSON Query to graphql/query: HTTP error code 401. [retrying; skip with ^C]\n"
          ]
        },
        {
          "output_type": "stream",
          "name": "stdout",
          "text": [
            "Failed to download Instagram video https://www.instagram.com/reel/C6E1GO2ywCh/?igsh=YWFudmk1M3AxcDBu: JSON Query to graphql/query: HTTP error code 401.\n",
            "Loaded session from /root/.config/instaloader/session-saurav_bedse_prt.\n"
          ]
        },
        {
          "output_type": "stream",
          "name": "stderr",
          "text": [
            "JSON Query to graphql/query: HTTP error code 401. [retrying; skip with ^C]\n",
            "JSON Query to graphql/query: HTTP error code 401. [retrying; skip with ^C]\n"
          ]
        },
        {
          "output_type": "stream",
          "name": "stdout",
          "text": [
            "Failed to download Instagram video https://www.instagram.com/reel/C3lhMSFvBvD/?igsh=MXR6OHFla3BrY2R5Mw==: JSON Query to graphql/query: HTTP error code 401.\n",
            "Loaded session from /root/.config/instaloader/session-saurav_bedse_prt.\n"
          ]
        },
        {
          "output_type": "stream",
          "name": "stderr",
          "text": [
            "JSON Query to graphql/query: HTTP error code 401. [retrying; skip with ^C]\n",
            "JSON Query to graphql/query: HTTP error code 401. [retrying; skip with ^C]\n"
          ]
        },
        {
          "output_type": "stream",
          "name": "stdout",
          "text": [
            "Failed to download Instagram video https://www.instagram.com/reel/C3GvLpDvmwN/?igsh=MXFncmdkdDJlcmExZQ==: JSON Query to graphql/query: HTTP error code 401.\n",
            "Loaded session from /root/.config/instaloader/session-saurav_bedse_prt.\n"
          ]
        },
        {
          "output_type": "stream",
          "name": "stderr",
          "text": [
            "JSON Query to graphql/query: HTTP error code 401. [retrying; skip with ^C]\n",
            "JSON Query to graphql/query: HTTP error code 401. [retrying; skip with ^C]\n"
          ]
        },
        {
          "output_type": "stream",
          "name": "stdout",
          "text": [
            "Failed to download Instagram video https://www.instagram.com/reel/C2-pPt_Pysv/?igsh=MXZsbHZqbXpuNDRmZw==: JSON Query to graphql/query: HTTP error code 401.\n",
            "Loaded session from /root/.config/instaloader/session-saurav_bedse_prt.\n"
          ]
        },
        {
          "output_type": "stream",
          "name": "stderr",
          "text": [
            "JSON Query to graphql/query: HTTP error code 401. [retrying; skip with ^C]\n",
            "JSON Query to graphql/query: HTTP error code 401. [retrying; skip with ^C]\n"
          ]
        },
        {
          "output_type": "stream",
          "name": "stdout",
          "text": [
            "Failed to download Instagram video https://www.instagram.com/reel/C23OBh6P_TR/?igsh=MXJ6NTdrZGs5MG1keA==: JSON Query to graphql/query: HTTP error code 401.\n",
            "Loaded session from /root/.config/instaloader/session-saurav_bedse_prt.\n"
          ]
        },
        {
          "output_type": "stream",
          "name": "stderr",
          "text": [
            "JSON Query to graphql/query: HTTP error code 401. [retrying; skip with ^C]\n",
            "JSON Query to graphql/query: HTTP error code 401. [retrying; skip with ^C]\n"
          ]
        },
        {
          "output_type": "stream",
          "name": "stdout",
          "text": [
            "Failed to download Instagram video https://www.instagram.com/reel/C1AODohAZua/?igsh=MWxpbW01eDM1YzN0Yg==: JSON Query to graphql/query: HTTP error code 401.\n",
            "Loaded session from /root/.config/instaloader/session-saurav_bedse_prt.\n"
          ]
        },
        {
          "output_type": "stream",
          "name": "stderr",
          "text": [
            "JSON Query to graphql/query: HTTP error code 401. [retrying; skip with ^C]\n",
            "JSON Query to graphql/query: HTTP error code 401. [retrying; skip with ^C]\n"
          ]
        },
        {
          "output_type": "stream",
          "name": "stdout",
          "text": [
            "Failed to download Instagram video https://www.instagram.com/reel/C52KVS8uPwH/?igsh=MWs5M2hpZzk3cWdw: JSON Query to graphql/query: HTTP error code 401.\n",
            "Loaded session from /root/.config/instaloader/session-saurav_bedse_prt.\n"
          ]
        },
        {
          "output_type": "stream",
          "name": "stderr",
          "text": [
            "JSON Query to graphql/query: HTTP error code 401. [retrying; skip with ^C]\n",
            "JSON Query to graphql/query: HTTP error code 401. [retrying; skip with ^C]\n"
          ]
        },
        {
          "output_type": "stream",
          "name": "stdout",
          "text": [
            "Failed to download Instagram video https://www.instagram.com/reel/C3qAcbjugIN/?igsh=ZmpzY216bzQxYmhw: JSON Query to graphql/query: HTTP error code 401.\n",
            "Loaded session from /root/.config/instaloader/session-saurav_bedse_prt.\n"
          ]
        },
        {
          "output_type": "stream",
          "name": "stderr",
          "text": [
            "JSON Query to graphql/query: HTTP error code 401. [retrying; skip with ^C]\n",
            "JSON Query to graphql/query: HTTP error code 401. [retrying; skip with ^C]\n"
          ]
        },
        {
          "output_type": "stream",
          "name": "stdout",
          "text": [
            "Failed to download Instagram video https://www.instagram.com/reel/C6oWzi8i4A_/?igsh=MXZjc2R6Y3djemVrcA==: JSON Query to graphql/query: HTTP error code 401.\n",
            "Loaded session from /root/.config/instaloader/session-saurav_bedse_prt.\n"
          ]
        },
        {
          "output_type": "stream",
          "name": "stderr",
          "text": [
            "JSON Query to graphql/query: HTTP error code 401. [retrying; skip with ^C]\n",
            "JSON Query to graphql/query: HTTP error code 401. [retrying; skip with ^C]\n"
          ]
        },
        {
          "output_type": "stream",
          "name": "stdout",
          "text": [
            "Failed to download Instagram video https://www.instagram.com/reel/C2C1F7ACy9B/?igsh=d2NjZnZsY283MHF3: JSON Query to graphql/query: HTTP error code 401.\n",
            "Loaded session from /root/.config/instaloader/session-saurav_bedse_prt.\n"
          ]
        },
        {
          "output_type": "stream",
          "name": "stderr",
          "text": [
            "JSON Query to graphql/query: HTTP error code 401. [retrying; skip with ^C]\n",
            "JSON Query to graphql/query: HTTP error code 401. [retrying; skip with ^C]\n"
          ]
        },
        {
          "output_type": "stream",
          "name": "stdout",
          "text": [
            "Failed to download Instagram video https://www.instagram.com/reel/C0eV7_fCYKs/?igsh=MXRsZGszODRobnJ1MA==: JSON Query to graphql/query: HTTP error code 401.\n",
            "Transcription complete and saved to transcribed_data.csv\n"
          ]
        }
      ]
    },
    {
      "cell_type": "code",
      "source": [],
      "metadata": {
        "id": "z2HQlQAR3Y4b"
      },
      "execution_count": null,
      "outputs": []
    }
  ]
}